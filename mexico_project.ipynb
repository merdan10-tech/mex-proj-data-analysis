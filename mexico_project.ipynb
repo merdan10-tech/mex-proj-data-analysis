{
 "cells": [
  {
   "cell_type": "markdown",
   "id": "ad055cd9-31bc-4562-9ead-712ae6d2a3a2",
   "metadata": {},
   "source": [
    "## **Name: Merdan Garlyyev**"
   ]
  },
  {
   "cell_type": "markdown",
   "id": "28f56f35-1847-48cb-ae34-6f95e064a6d5",
   "metadata": {},
   "source": [
    "## Analyzing the Determinants of Housing Prices in Mexico: A Comprehensive Data Analysis"
   ]
  },
  {
   "cell_type": "markdown",
   "id": "f83100b4-6e36-4ed1-b113-e26f1f08fc39",
   "metadata": {
    "jp-MarkdownHeadingCollapsed": true
   },
   "source": [
    "### **Description**\n",
    "#### In this project, I utilized three CSV files to investigate the factors that most influence housing prices in Mexico. The analysis involvesd loading data using pandas, cleaning and combining messy datasets, and examining relationships between variables through correlation analysis. By creating insightful visualizations, such as histograms, scatter plots, and bar charts, I was able to identify key determinants that significantly impact housing prices. This comprehensive approach provided a clear understanding of the housing market dynamics in Mexico."
   ]
  },
  {
   "cell_type": "markdown",
   "id": "33c1edcb-c5d2-4f6e-9b1b-234eaa56fe2d",
   "metadata": {},
   "source": [
    "### Step By Step Walkthrough"
   ]
  },
  {
   "cell_type": "markdown",
   "id": "c84ef1ed-d6fd-4adb-a5d1-432bb1cb7a49",
   "metadata": {},
   "source": [
    "## **I. Data Cleaning**"
   ]
  },
  {
   "cell_type": "code",
   "execution_count": 1,
   "id": "abb2ce1f-85c4-4a70-8148-729c6ccd28df",
   "metadata": {},
   "outputs": [],
   "source": [
    "# import library\n",
    "import pandas as pd"
   ]
  },
  {
   "cell_type": "code",
   "execution_count": null,
   "id": "2b1187a5-e4ec-4004-99c9-b132962d707b",
   "metadata": {},
   "outputs": [],
   "source": [
    "# Load CSV files into DataFrames\n",
    "df1 = pd.read_csv(\"data/mexico-real-estate-1.csv\")\n",
    "df2 = pd.read_csv(\"data/mexico-real-estate-2.csv\")\n",
    "df3 = pd.read_csv(\"data/mexico-real-estate-3.csv\")\n",
    "\n",
    "# Print object type and shape for DataFrames\n",
    "print(\"df1 type:\", type(df1))\n",
    "print(\"df1 shape:\", df1.shape)\n",
    "print(df1.head())\n",
    "print(\"df2 type:\", type(df2))\n",
    "print(\"df2 shape:\", df2.shape)\n",
    "print(df2.head())\n",
    "print(\"df3 type:\", type(df3))\n",
    "print(\"df3 shape:\", df3.shape)\n",
    "print(df3.head())"
   ]
  },
  {
   "cell_type": "markdown",
   "id": "4ab1909e-6db4-47b0-8a17-b519f8056fb6",
   "metadata": {},
   "source": [
    "![df1_outline](df1_outline.png)"
   ]
  },
  {
   "cell_type": "markdown",
   "id": "6ebb53b9-83d1-49ac-b6cb-105a109c3b4b",
   "metadata": {},
   "source": [
    "![df2_outline](df2_outline.png)"
   ]
  },
  {
   "cell_type": "markdown",
   "id": "72bcf887-e9b6-42ca-a11b-3b40022f4cb1",
   "metadata": {},
   "source": [
    "![df3_outline](df3_outline.png)"
   ]
  },
  {
   "cell_type": "markdown",
   "id": "6bd7740a-2974-48de-bbb9-6505eec1e06e",
   "metadata": {},
   "source": [
    "### Cleaning DataFrame 1"
   ]
  },
  {
   "cell_type": "code",
   "execution_count": null,
   "id": "0a8eaef0-cc9c-4af2-9e15-0e655d073553",
   "metadata": {},
   "outputs": [],
   "source": [
    "# Raw Data 1\n",
    "df1.head()"
   ]
  },
  {
   "cell_type": "markdown",
   "id": "8880608b-0c09-4bd0-9551-f46ce1fe3b53",
   "metadata": {},
   "source": [
    "![df1_raw](df1_raw.png)"
   ]
  },
  {
   "cell_type": "code",
   "execution_count": null,
   "id": "6ec14d3a-4537-41af-acc5-23fd10f97090",
   "metadata": {},
   "outputs": [],
   "source": [
    "# Drop rows with missing values from df1\n",
    "df1.dropna(inplace=True)\n",
    "# Clean 'price_usd' column: remove '$' and ',' and convert to float\n",
    "df1[\"price_usd\"] = df1[\"price_usd\"].str.replace(\"$\", \"\", regex=False).str.replace(\",\",\"\").astype(float)\n",
    "# Check for the results \n",
    "df1.head()"
   ]
  },
  {
   "cell_type": "markdown",
   "id": "d41c7ea2-c10c-47c8-a19e-b4837a549663",
   "metadata": {},
   "source": [
    "![df1_cleaned](df1_cleaned.png)"
   ]
  },
  {
   "cell_type": "markdown",
   "id": "dbe99a6e-a372-4ac8-8dc7-2514a9238307",
   "metadata": {},
   "source": [
    "### Cleaning DataFrame 2"
   ]
  },
  {
   "cell_type": "code",
   "execution_count": null,
   "id": "afcce7cb-f1e8-4e59-9f1b-8409ded8fc7f",
   "metadata": {},
   "outputs": [],
   "source": [
    "# Raw Data 2\n",
    "df2.head()"
   ]
  },
  {
   "cell_type": "markdown",
   "id": "f785c1a5-691f-4961-bf57-295244b9c20e",
   "metadata": {},
   "source": [
    "![df2_raw](df2_raw.png)"
   ]
  },
  {
   "cell_type": "code",
   "execution_count": null,
   "id": "d663f385-373e-4282-a5ca-9a0715a72900",
   "metadata": {},
   "outputs": [],
   "source": [
    "# Drop rows with missing values from df2\n",
    "df2.dropna(inplace=True)\n",
    "# Convert 'price_mxn' to 'price_usd' (assuming 19 MXN to USD)\n",
    "df2[\"price_usd\"] = (df2[\"price_mxn\"] / 19).round(2)\n",
    "# Check for updates\n",
    "df2.head()"
   ]
  },
  {
   "cell_type": "markdown",
   "id": "fa94ae1a-e9f4-4190-a5bd-8ebbb13e5326",
   "metadata": {},
   "source": [
    "![df2_cleaned](df2_cleaned.png)"
   ]
  },
  {
   "cell_type": "markdown",
   "id": "df5136b7-e12f-4620-beb1-cfc810d092c2",
   "metadata": {},
   "source": [
    "### Cleaning DataFrame 3"
   ]
  },
  {
   "cell_type": "code",
   "execution_count": null,
   "id": "8c7fb369-e2be-4987-929e-56be4dcd9e57",
   "metadata": {},
   "outputs": [],
   "source": [
    "# Raw Data 3\n",
    "df3.head()"
   ]
  },
  {
   "cell_type": "markdown",
   "id": "7eb64a5c-1745-4d1b-970a-005ab444a305",
   "metadata": {},
   "source": [
    "![df3_raw](df3_raw.png)"
   ]
  },
  {
   "cell_type": "code",
   "execution_count": null,
   "id": "c15ac985-996d-4aaa-b300-771671481fc2",
   "metadata": {},
   "outputs": [],
   "source": [
    "# Remove rows with NaN values (missing values)\n",
    "df3.dropna(inplace=True)\n",
    "# Split lat-lon column into separate 'lat' and 'lon' columns\n",
    "df3[[\"lat\", \"lon\"]] = df3[\"lat-lon\"].str.split(\",\", expand=True)\n",
    "# Extract state from place_with_parent_names\n",
    "df3[\"state\"] = df3[\"place_with_parent_names\"].str.split(\"|\", expand=True)[2]\n",
    "# Drop unnecessary columns from df3\n",
    "df3.drop(columns=[\"lat-lon\", \"place_with_parent_names\"], inplace=True)\n",
    "# Check the updated dataset\n",
    "df3.head()"
   ]
  },
  {
   "cell_type": "markdown",
   "id": "14958ab2-7f75-4b09-84cd-fd2041a66716",
   "metadata": {},
   "source": [
    "![df3_cleaned](df3_cleaned.png)"
   ]
  },
  {
   "cell_type": "markdown",
   "id": "4eb49e78-ec92-40f0-809a-b56586b2bc01",
   "metadata": {},
   "source": [
    "### Concatenate DataFrames"
   ]
  },
  {
   "cell_type": "code",
   "execution_count": null,
   "id": "846b325b-0756-4d75-b063-5f1aadc4d592",
   "metadata": {},
   "outputs": [],
   "source": [
    "# Concatenate df1, df2, and df3 into a single DataFrame df\n",
    "df = pd.concat([df1, df2, df3], ignore_index=True)\n",
    "# Print object type, shape, and head\n",
    "print(\"df type:\", type(df))\n",
    "print(\"df shape:\", df.shape)\n",
    "df.head()"
   ]
  },
  {
   "cell_type": "markdown",
   "id": "c90dc0e4-3420-4cf0-9226-c089c83a6a8d",
   "metadata": {},
   "source": [
    "![df_concat](df_concatenated.png)"
   ]
  },
  {
   "cell_type": "code",
   "execution_count": null,
   "id": "cebf2b74-4644-4f62-8cbf-0283549a917e",
   "metadata": {},
   "outputs": [],
   "source": [
    "# Save concatenated df as CSV file (path of the working folder)\n",
    "df.to_csv(\"data/mexico-real-estate-all.csv\", index=False)"
   ]
  },
  {
   "cell_type": "markdown",
   "id": "6be44ce5-b22a-4b61-a248-3924b6eb5499",
   "metadata": {},
   "source": [
    "## **II. Exploratory Data Analysis**"
   ]
  },
  {
   "cell_type": "code",
   "execution_count": null,
   "id": "681764d7-0b53-4a2f-a326-0044eb8646c0",
   "metadata": {},
   "outputs": [],
   "source": [
    "# Import matplotlib for plotting\n",
    "import matplotlib.pyplot as plt\n",
    "# Import plotly express for interactive plotting\n",
    "import plotly.express as px"
   ]
  },
  {
   "cell_type": "markdown",
   "id": "4df925a1-c557-41b5-99bf-4d237d61faf2",
   "metadata": {},
   "source": [
    "###  Creating Scatter Plot with Mapbox"
   ]
  },
  {
   "cell_type": "code",
   "execution_count": null,
   "id": "5bb300a1-3887-4c93-b303-474168cb9635",
   "metadata": {},
   "outputs": [],
   "source": [
    "# Use plotly express to create figure\n",
    "fig = px.scatter_mapbox(\n",
    "    df,  # Our DataFrame\n",
    "    lat= \"lat\",\n",
    "    lon= \"lon\",\n",
    "    center={\"lat\": 19.43, \"lon\": -99.13},  # Map will be centered on Mexico City\n",
    "    width=600,  # Width of map\n",
    "    height=600,  # Height of map\n",
    "    hover_data=[\"price_usd\"],  # Display price when hovering mouse over house\n",
    ")\n",
    "\n",
    "# Add mapbox_style to figure layout\n",
    "fig.update_layout(mapbox_style=\"open-street-map\")\n",
    "\n",
    "# Show figure\n",
    "fig.show()"
   ]
  },
  {
   "cell_type": "markdown",
   "id": "8f1894aa-24ab-4465-a7c1-4e4f4dc2b70e",
   "metadata": {},
   "source": [
    "![df_scatterplot](df_scatterplot.png)"
   ]
  },
  {
   "cell_type": "code",
   "execution_count": null,
   "id": "38421595-254e-4a04-b625-611849ddd9ba",
   "metadata": {},
   "outputs": [],
   "source": [
    "# Determining the 10 Most Prevalent States\n",
    "df[\"state\"].value_counts().head(10)"
   ]
  },
  {
   "cell_type": "markdown",
   "id": "1ee09a24-24ac-4650-b51d-099431998323",
   "metadata": {},
   "source": [
    "![df_prevalent](df_prevalent_states.png)"
   ]
  },
  {
   "cell_type": "markdown",
   "id": "514a8297-f39c-47df-81b6-8090ef2291c8",
   "metadata": {},
   "source": [
    "###  Creating a Histogram of \"area_m2\""
   ]
  },
  {
   "cell_type": "code",
   "execution_count": null,
   "id": "017f9958-374e-4cc6-9be9-a4206d09b4a0",
   "metadata": {},
   "outputs": [],
   "source": [
    "# Matplotlib to create histogram of \"area_m2\"\n",
    "plt.hist(df[\"area_m2\"])\n",
    "# x-axis label\n",
    "plt.xlabel(\"Area [sq meters]\")\n",
    "\n",
    "# y-axis label\n",
    "plt.ylabel(\"Frequency\")\n",
    "\n",
    "# Title\n",
    "plt.title(\"Distribution of Home Sizes\");"
   ]
  },
  {
   "cell_type": "markdown",
   "id": "65329b3e-c296-4e8f-8d34-0d4906d2ffaa",
   "metadata": {},
   "source": [
    "![df_hist](df_histogram.png)"
   ]
  },
  {
   "cell_type": "markdown",
   "id": "22903101-cab5-41a0-954f-5d60b9c9b138",
   "metadata": {},
   "source": [
    "### Creating a Horizontal Boxplot of \"area_m2\""
   ]
  },
  {
   "cell_type": "code",
   "execution_count": null,
   "id": "019fa554-46cb-4428-aeb7-ecff7ce44002",
   "metadata": {},
   "outputs": [],
   "source": [
    "# Matplotlib to create boxplot of \"area_m2\"\n",
    "plt.boxplot(df[\"area_m2\"], vert=False)\n",
    "\n",
    "# x-axis label\n",
    "plt.xlabel(\"Area [sq meters]\")\n",
    "\n",
    "# Title\n",
    "plt.title(\"Distribution of Home Sizes\");"
   ]
  },
  {
   "cell_type": "markdown",
   "id": "edb75ed0-838d-4878-9f70-b829a022a406",
   "metadata": {},
   "source": [
    "![df_horiz-boxplot](df_horiz-boxplot.png)"
   ]
  },
  {
   "cell_type": "markdown",
   "id": "05ed674c-b67d-4bf8-87e3-5a2c9bfef484",
   "metadata": {},
   "source": [
    "### Creating a Histogram of \"price_usd\""
   ]
  },
  {
   "cell_type": "code",
   "execution_count": null,
   "id": "e52c3526-f6e1-4262-a652-294675384795",
   "metadata": {},
   "outputs": [],
   "source": [
    "# Matplotlib to create histogram of \"price_usd\"\n",
    "plt.hist(df[\"price_usd\"])\n",
    "\n",
    "# x-axis label\n",
    "plt.xlabel(\"Price [USD]\")\n",
    "\n",
    "# y-axis label\n",
    "\n",
    "plt.ylabel(\"Frequency\")\n",
    "# Title\n",
    "plt.title(\"Distribution of Home Prices\");"
   ]
  },
  {
   "cell_type": "markdown",
   "id": "264e171e-dc57-4808-b016-429189a69123",
   "metadata": {},
   "source": [
    "![df_hist](df_hist.png)"
   ]
  },
  {
   "cell_type": "markdown",
   "id": "5b7f596f-7279-49e1-942b-7840d65f68cc",
   "metadata": {},
   "source": [
    "### Creating a Boxplot of \"price_usd\""
   ]
  },
  {
   "cell_type": "code",
   "execution_count": null,
   "id": "067ac3e8-4201-4ef8-9f61-ef3e3d3924f2",
   "metadata": {},
   "outputs": [],
   "source": [
    "# Matplotlib to create boxplot of \"price_usd\"\n",
    "plt.boxplot(df[\"price_usd\"], vert=False)\n",
    "\n",
    "# x-label axis\n",
    "plt.xlabel(\"Price [USD]\")\n",
    "\n",
    "# y-label axis\n",
    "plt.ylabel(\"Distribution of Home Prices\");"
   ]
  },
  {
   "cell_type": "markdown",
   "id": "44987fab-84a1-46d2-ac9d-ea13e04396b0",
   "metadata": {},
   "source": [
    "![df_hor-boxplot](df_hor_boxplot.png)"
   ]
  },
  {
   "cell_type": "markdown",
   "id": "07d6dfcf-c9bb-4549-a530-a1120d87e4cc",
   "metadata": {},
   "source": [
    "## **III. Research Questions**"
   ]
  },
  {
   "cell_type": "markdown",
   "id": "558451d2-ff5c-4d73-8a33-29cd62161c3d",
   "metadata": {},
   "source": [
    "### RQ1. Which state has the most expensive real estate market?"
   ]
  },
  {
   "cell_type": "markdown",
   "id": "b6250634-018f-4ef6-b920-c9a264fd1914",
   "metadata": {},
   "source": [
    "#### Identifying the Most Expensive Market"
   ]
  },
  {
   "cell_type": "code",
   "execution_count": null,
   "id": "0ca0e609-9981-49c2-8dd1-78a831492b78",
   "metadata": {},
   "outputs": [],
   "source": [
    "# Group `df` by \"state\", create bar chart of \"price_per_m2\"\n",
    "#mean_house_price_per_m2 = \n",
    "(\n",
    "    df\n",
    "    .groupby(\"state\")[\"price_per_m2\"]\n",
    "    .mean()\n",
    "    .sort_values(ascending=False)\n",
    "    .plot(\n",
    "        kind=\"bar\",\n",
    "        xlabel=\"State\",\n",
    "        ylabel=\"Mean Price per M^2[USD]\",\n",
    "        title=\"Mean House Price per M^2 by State\"\n",
    "    )\n",
    ");"
   ]
  },
  {
   "cell_type": "markdown",
   "id": "0bf193c4-8488-4db2-bce4-c41a08bc561b",
   "metadata": {},
   "source": [
    "![df_most-exp-mark](df_most-expen-mark.png)"
   ]
  },
  {
   "cell_type": "markdown",
   "id": "9e5d940c-5f2c-4b3d-a9c4-1e86cffe5778",
   "metadata": {},
   "source": [
    "### RQ2. Is there a relationship between home size and price?"
   ]
  },
  {
   "cell_type": "markdown",
   "id": "c4bc58ce-caae-4b07-9ed6-7af51e05d0cc",
   "metadata": {},
   "source": [
    "#### Analysis for Mexico City (Distrito Federal)"
   ]
  },
  {
   "cell_type": "code",
   "execution_count": null,
   "id": "c9575d35-6c16-44d9-a343-7495b193f222",
   "metadata": {},
   "outputs": [],
   "source": [
    "# Declare variable `df_mexico_city` by subsetting `df`\n",
    "df_mexico_city = df[df[\"state\"] == \"Distrito Federal\"]\n",
    "# Print object type and shape\n",
    "print(\"df_mexico_city type:\", type(df_mexico_city))\n",
    "\n",
    "print(\"df_mexico_city shape:\", df_mexico_city.shape)\n",
    "# Create a scatter plot \"price_usd\" vs \"area_m2\" in Distrito Federal\n",
    "plt.scatter(x=df_mexico_city[\"area_m2\"], y=df_mexico_city[\"price_usd\"]) \n",
    "\n",
    "plt.xlabel(\"Area [sq meters]\")\n",
    "# Add y-axis label\n",
    "plt.ylabel(\"Price [USD]\")\n",
    "# Add title\n",
    "plt.title(\"Mexico City: Price vs Area\");\n",
    "\n",
    "# Calculate correlation of \"price_usd\" and \"area_m2\" in `df_mexico_city`\n",
    "p_correlation = df_mexico_city[\"area_m2\"].corr(df_mexico_city[\"price_usd\"])\n",
    "\n",
    "# Print correlation coefficient\n",
    "print(\"Correlation of 'area_m2' and 'price_usd' (Mexico City):\", p_correlation)"
   ]
  },
  {
   "cell_type": "markdown",
   "id": "ed15c4ec-64e3-473e-947a-aa1071b99f2e",
   "metadata": {},
   "source": [
    "![df_ana-mex-city](df_anal-mex-city.png)"
   ]
  },
  {
   "cell_type": "markdown",
   "id": "f98ce88d-51f0-4b70-9b1c-9dbc3130e0cf",
   "metadata": {},
   "source": [
    "## **IV. Report**"
   ]
  },
  {
   "cell_type": "markdown",
   "id": "a14ca767-10fc-45a6-9042-06b981cf90f8",
   "metadata": {},
   "source": [
    "### Research Questions Addressed:\n",
    "#### 1. Which state has the most expensive real estate market?\n",
    "##### - Based on the analysis of mean house prices, Distrito Federal emerges as the most expensive real estate market in Mexico, followed closely by Estado De Mexico and Guerrero.\n",
    "#### 2. Is there a relationship between home size and price?\n",
    "##### - A positive correlation (Pearson's r = 0.586) was observed between the size of homes (area_m2) and their prices (price_usd) across all states in Mexico. This indicates that larger homes tend to command higher prices, although the relationship is moderate.\n",
    "##### - The strength of the relationship between home size and price varies significantly across states. For instance, in Morelos, there is a strong positive correlation (r = 0.850), suggesting that home size strongly influences price. In contrast, Mexico City (Distrito Federal) shows a weaker correlation (r = 0.411), indicating that other factors may have a more significant impact on housing prices in this urban center."
   ]
  },
  {
   "cell_type": "markdown",
   "id": "e4302ab6-82cd-4f28-aa9d-dc65670081ac",
   "metadata": {},
   "source": [
    "### **Conclusion:**\n",
    "##### - In conclusion, while size is a crucial factor in determining home prices across Mexico, its influence varies by state. More detailed and nuanced analyses, supported by expanded datasets and advanced modeling techniques, are essential to uncovering the multifaceted dynamics of Mexico's real estate market."
   ]
  }
 ],
 "metadata": {
  "kernelspec": {
   "display_name": "Python 3 (ipykernel)",
   "language": "python",
   "name": "python3"
  },
  "language_info": {
   "codemirror_mode": {
    "name": "ipython",
    "version": 3
   },
   "file_extension": ".py",
   "mimetype": "text/x-python",
   "name": "python",
   "nbconvert_exporter": "python",
   "pygments_lexer": "ipython3",
   "version": "3.12.4"
  }
 },
 "nbformat": 4,
 "nbformat_minor": 5
}
